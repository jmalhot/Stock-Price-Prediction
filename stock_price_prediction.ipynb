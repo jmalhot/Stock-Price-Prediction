{
 "cells": [
  {
   "cell_type": "markdown",
   "metadata": {},
   "source": [
    "<b> <font size=\"6\"> SOLUTION DETAILS (LOGIC)<font size=\"6\"> </b>\n",
    "    \n",
    "<font size=\"4\"> There are multiple factors influencing the price of a stock including historical stock prices and news of interest. So, in order to forecast a price accurately, both Time-Series data and news of interest is considered as an input data sources. <font size=\"4\"> \n",
    "    \n",
    "<b><font size=\"4\"> STEP 1 - Predict Stock Price changes for next 5 mins basis Stock Price Time-Series (Vector Autoregression) !\n",
    "\n",
    "\n",
    "<font size=\"4\"> STEP 2 - Predict Stock Price changes for next 5 mins basis Twitter News (NLP and Regression) !\n",
    "    \n",
    "    \n",
    "<font size=\"4\"> STEP 3 - Compute weightage Average of Step 1 and Step 2 as final stock price for next 5 mins !</b>\n",
    "    \n",
    "STEP 1 and STEP 2 can be combined into one STEP using LSTM Regressor. However, due to limited dataset, neural network will not make sense. In real time, implementation - It will be interesting to measure LSTM along with many other algorithms and approaches!\n",
    "\n",
    "\n"
   ]
  },
  {
   "cell_type": "markdown",
   "metadata": {},
   "source": [
    "<b> <font size=\"4\">Importing Libraries\n"
   ]
  },
  {
   "cell_type": "code",
   "execution_count": 2,
   "metadata": {},
   "outputs": [],
   "source": [
    "import pandas as pd\n",
    "import numpy as np\n",
    "%matplotlib inline\n",
    "import matplotlib as mpl\n",
    "import matplotlib.pyplot as plt\n",
    "import seaborn as sns\n",
    "from vaderSentiment.vaderSentiment import SentimentIntensityAnalyzer\n",
    "from nltk.sentiment.vader import SentimentIntensityAnalyzer\n",
    "from textblob import TextBlob\n",
    "import datetime as dt\n",
    "from sklearn.preprocessing import StandardScaler\n",
    "import pandas_datareader.data as web\n",
    "import math\n",
    "from pyspark.sql import SparkSession\n",
    "from pyspark import SparkConf,SparkContext\n",
    "from pyspark.sql import SQLContext,functions as F\n",
    "from pyspark.sql.types import *\n",
    "import nltk\n",
    "\n",
    "\n"
   ]
  },
  {
   "cell_type": "markdown",
   "metadata": {},
   "source": [
    "<b> <font size=\"4\">Using Spark to load the datasets because in real time project implementation, python will not be effective to load huge data set comprising of financial and tweets data. Spark provides high computer with Parallel computation\n"
   ]
  },
  {
   "cell_type": "markdown",
   "metadata": {},
   "source": [
    "<b> <font size=\"4\">This will run on GCP Spark DataProc or AWS EMR Spark cluster"
   ]
  },
  {
   "cell_type": "code",
   "execution_count": 3,
   "metadata": {},
   "outputs": [],
   "source": [
    "spark = SparkSession \\\n",
    "            .builder \\\n",
    "            .appName('Stock Market Prediction') \\\n",
    "            .config('spark.driver.memory', '5g') \\\n",
    "            .config('spark.executor.memory', '5g') \\\n",
    "            .config(\"spark.executor.cores\",1) \\\n",
    "            .config('spark.executor.heartbeatInterval\",\"7200s') \\\n",
    "            .config('spark.sql.inMemoryColumnarStorage.compressed',True) \\\n",
    "            .config('spark.sql.broadcastTimeout',\"36000\") \\\n",
    "            .getOrCreate()"
   ]
  },
  {
   "cell_type": "markdown",
   "metadata": {},
   "source": [
    "<b><font size=\"4\"> STEP 1 BEGINS"
   ]
  },
  {
   "cell_type": "markdown",
   "metadata": {},
   "source": [
    "<b> <font size=\"4\">Loading Financial Data into spark dataframe"
   ]
  },
  {
   "cell_type": "code",
   "execution_count": 4,
   "metadata": {},
   "outputs": [],
   "source": [
    "df_spark_f= spark.read.format(\"csv\") \\\n",
    "                     .option(\"header\", \"true\") \\\n",
    "                     .option(\"delimiter\", \",\") \\\n",
    "                     .load(\"financial_data.csv\") \n"
   ]
  },
  {
   "cell_type": "markdown",
   "metadata": {},
   "source": [
    "<b> <font size=\"4\">Alternatively, one can load directly in pandas for simplicity"
   ]
  },
  {
   "cell_type": "code",
   "execution_count": 5,
   "metadata": {},
   "outputs": [],
   "source": [
    "import pandas as pd\n",
    "df_pd = pd.read_csv('financial_data.csv')\n"
   ]
  },
  {
   "cell_type": "markdown",
   "metadata": {},
   "source": [
    "<b> <font size=\"4\">Get Shape\n"
   ]
  },
  {
   "cell_type": "code",
   "execution_count": 6,
   "metadata": {},
   "outputs": [
    {
     "data": {
      "text/plain": [
       "(1910, 6)"
      ]
     },
     "execution_count": 6,
     "metadata": {},
     "output_type": "execute_result"
    }
   ],
   "source": [
    "df_pd.shape"
   ]
  },
  {
   "cell_type": "markdown",
   "metadata": {},
   "source": [
    "<b> <font size=\"4\">Get STATS"
   ]
  },
  {
   "cell_type": "code",
   "execution_count": 7,
   "metadata": {},
   "outputs": [
    {
     "data": {
      "text/html": [
       "<div>\n",
       "<style scoped>\n",
       "    .dataframe tbody tr th:only-of-type {\n",
       "        vertical-align: middle;\n",
       "    }\n",
       "\n",
       "    .dataframe tbody tr th {\n",
       "        vertical-align: top;\n",
       "    }\n",
       "\n",
       "    .dataframe thead th {\n",
       "        text-align: right;\n",
       "    }\n",
       "</style>\n",
       "<table border=\"1\" class=\"dataframe\">\n",
       "  <thead>\n",
       "    <tr style=\"text-align: right;\">\n",
       "      <th></th>\n",
       "      <th>openBAC</th>\n",
       "      <th>openMA</th>\n",
       "      <th>openAAPL</th>\n",
       "      <th>openPFE</th>\n",
       "      <th>openBYND</th>\n",
       "    </tr>\n",
       "  </thead>\n",
       "  <tbody>\n",
       "    <tr>\n",
       "      <th>count</th>\n",
       "      <td>1910.000000</td>\n",
       "      <td>1910.000000</td>\n",
       "      <td>1910.000000</td>\n",
       "      <td>1910.000000</td>\n",
       "      <td>1910.000000</td>\n",
       "    </tr>\n",
       "    <tr>\n",
       "      <th>mean</th>\n",
       "      <td>30.319276</td>\n",
       "      <td>276.163921</td>\n",
       "      <td>210.681070</td>\n",
       "      <td>39.313202</td>\n",
       "      <td>195.250437</td>\n",
       "    </tr>\n",
       "    <tr>\n",
       "      <th>std</th>\n",
       "      <td>0.654056</td>\n",
       "      <td>4.821312</td>\n",
       "      <td>5.005540</td>\n",
       "      <td>1.496761</td>\n",
       "      <td>17.180351</td>\n",
       "    </tr>\n",
       "    <tr>\n",
       "      <th>min</th>\n",
       "      <td>28.915000</td>\n",
       "      <td>265.710000</td>\n",
       "      <td>201.700000</td>\n",
       "      <td>37.695000</td>\n",
       "      <td>172.096200</td>\n",
       "    </tr>\n",
       "    <tr>\n",
       "      <th>25%</th>\n",
       "      <td>29.610000</td>\n",
       "      <td>273.042500</td>\n",
       "      <td>207.931125</td>\n",
       "      <td>38.180000</td>\n",
       "      <td>177.741250</td>\n",
       "    </tr>\n",
       "    <tr>\n",
       "      <th>50%</th>\n",
       "      <td>30.640000</td>\n",
       "      <td>277.060000</td>\n",
       "      <td>209.880000</td>\n",
       "      <td>38.935000</td>\n",
       "      <td>197.800000</td>\n",
       "    </tr>\n",
       "    <tr>\n",
       "      <th>75%</th>\n",
       "      <td>30.785000</td>\n",
       "      <td>280.750000</td>\n",
       "      <td>216.437500</td>\n",
       "      <td>39.513750</td>\n",
       "      <td>205.403025</td>\n",
       "    </tr>\n",
       "    <tr>\n",
       "      <th>max</th>\n",
       "      <td>31.045000</td>\n",
       "      <td>283.120000</td>\n",
       "      <td>221.290000</td>\n",
       "      <td>42.930000</td>\n",
       "      <td>233.163600</td>\n",
       "    </tr>\n",
       "  </tbody>\n",
       "</table>\n",
       "</div>"
      ],
      "text/plain": [
       "           openBAC       openMA     openAAPL      openPFE     openBYND\n",
       "count  1910.000000  1910.000000  1910.000000  1910.000000  1910.000000\n",
       "mean     30.319276   276.163921   210.681070    39.313202   195.250437\n",
       "std       0.654056     4.821312     5.005540     1.496761    17.180351\n",
       "min      28.915000   265.710000   201.700000    37.695000   172.096200\n",
       "25%      29.610000   273.042500   207.931125    38.180000   177.741250\n",
       "50%      30.640000   277.060000   209.880000    38.935000   197.800000\n",
       "75%      30.785000   280.750000   216.437500    39.513750   205.403025\n",
       "max      31.045000   283.120000   221.290000    42.930000   233.163600"
      ]
     },
     "execution_count": 7,
     "metadata": {},
     "output_type": "execute_result"
    }
   ],
   "source": [
    "df_pd.describe()"
   ]
  },
  {
   "cell_type": "code",
   "execution_count": 8,
   "metadata": {},
   "outputs": [
    {
     "data": {
      "text/plain": [
       "Index(['openBAC', 'openMA', 'openAAPL', 'openPFE', 'openBYND', 'timestamp'], dtype='object')"
      ]
     },
     "execution_count": 8,
     "metadata": {},
     "output_type": "execute_result"
    }
   ],
   "source": [
    "df_pd.columns"
   ]
  },
  {
   "cell_type": "markdown",
   "metadata": {},
   "source": [
    "<b> <font size=\"4\">View Data"
   ]
  },
  {
   "cell_type": "code",
   "execution_count": 9,
   "metadata": {},
   "outputs": [
    {
     "data": {
      "text/html": [
       "<div>\n",
       "<style scoped>\n",
       "    .dataframe tbody tr th:only-of-type {\n",
       "        vertical-align: middle;\n",
       "    }\n",
       "\n",
       "    .dataframe tbody tr th {\n",
       "        vertical-align: top;\n",
       "    }\n",
       "\n",
       "    .dataframe thead th {\n",
       "        text-align: right;\n",
       "    }\n",
       "</style>\n",
       "<table border=\"1\" class=\"dataframe\">\n",
       "  <thead>\n",
       "    <tr style=\"text-align: right;\">\n",
       "      <th></th>\n",
       "      <th>openBAC</th>\n",
       "      <th>openMA</th>\n",
       "      <th>openAAPL</th>\n",
       "      <th>openPFE</th>\n",
       "      <th>openBYND</th>\n",
       "      <th>timestamp</th>\n",
       "    </tr>\n",
       "  </thead>\n",
       "  <tbody>\n",
       "    <tr>\n",
       "      <th>0</th>\n",
       "      <td>29.350</td>\n",
       "      <td>269.5300</td>\n",
       "      <td>203.6500</td>\n",
       "      <td>37.940</td>\n",
       "      <td>177.4909</td>\n",
       "      <td>2019-08-02 16:00</td>\n",
       "    </tr>\n",
       "    <tr>\n",
       "      <th>1</th>\n",
       "      <td>29.375</td>\n",
       "      <td>269.6400</td>\n",
       "      <td>203.6500</td>\n",
       "      <td>37.960</td>\n",
       "      <td>177.4000</td>\n",
       "      <td>2019-08-02 15:59</td>\n",
       "    </tr>\n",
       "    <tr>\n",
       "      <th>2</th>\n",
       "      <td>29.390</td>\n",
       "      <td>269.8800</td>\n",
       "      <td>203.7800</td>\n",
       "      <td>37.990</td>\n",
       "      <td>177.5250</td>\n",
       "      <td>2019-08-02 15:58</td>\n",
       "    </tr>\n",
       "    <tr>\n",
       "      <th>3</th>\n",
       "      <td>29.350</td>\n",
       "      <td>269.8000</td>\n",
       "      <td>203.7700</td>\n",
       "      <td>37.990</td>\n",
       "      <td>177.5100</td>\n",
       "      <td>2019-08-02 15:57</td>\n",
       "    </tr>\n",
       "    <tr>\n",
       "      <th>4</th>\n",
       "      <td>29.285</td>\n",
       "      <td>269.3300</td>\n",
       "      <td>203.2900</td>\n",
       "      <td>37.940</td>\n",
       "      <td>177.7100</td>\n",
       "      <td>2019-08-02 15:56</td>\n",
       "    </tr>\n",
       "    <tr>\n",
       "      <th>5</th>\n",
       "      <td>29.320</td>\n",
       "      <td>269.2500</td>\n",
       "      <td>203.3500</td>\n",
       "      <td>37.935</td>\n",
       "      <td>177.6500</td>\n",
       "      <td>2019-08-02 15:55</td>\n",
       "    </tr>\n",
       "    <tr>\n",
       "      <th>6</th>\n",
       "      <td>29.355</td>\n",
       "      <td>269.4914</td>\n",
       "      <td>203.3500</td>\n",
       "      <td>37.980</td>\n",
       "      <td>177.5000</td>\n",
       "      <td>2019-08-02 15:54</td>\n",
       "    </tr>\n",
       "    <tr>\n",
       "      <th>7</th>\n",
       "      <td>29.365</td>\n",
       "      <td>269.5300</td>\n",
       "      <td>203.5338</td>\n",
       "      <td>37.995</td>\n",
       "      <td>177.8300</td>\n",
       "      <td>2019-08-02 15:53</td>\n",
       "    </tr>\n",
       "    <tr>\n",
       "      <th>8</th>\n",
       "      <td>29.380</td>\n",
       "      <td>269.5400</td>\n",
       "      <td>203.4400</td>\n",
       "      <td>38.000</td>\n",
       "      <td>178.1548</td>\n",
       "      <td>2019-08-02 15:52</td>\n",
       "    </tr>\n",
       "    <tr>\n",
       "      <th>9</th>\n",
       "      <td>29.410</td>\n",
       "      <td>269.6800</td>\n",
       "      <td>203.5611</td>\n",
       "      <td>38.025</td>\n",
       "      <td>177.9500</td>\n",
       "      <td>2019-08-02 15:51</td>\n",
       "    </tr>\n",
       "  </tbody>\n",
       "</table>\n",
       "</div>"
      ],
      "text/plain": [
       "   openBAC    openMA  openAAPL  openPFE  openBYND         timestamp\n",
       "0   29.350  269.5300  203.6500   37.940  177.4909  2019-08-02 16:00\n",
       "1   29.375  269.6400  203.6500   37.960  177.4000  2019-08-02 15:59\n",
       "2   29.390  269.8800  203.7800   37.990  177.5250  2019-08-02 15:58\n",
       "3   29.350  269.8000  203.7700   37.990  177.5100  2019-08-02 15:57\n",
       "4   29.285  269.3300  203.2900   37.940  177.7100  2019-08-02 15:56\n",
       "5   29.320  269.2500  203.3500   37.935  177.6500  2019-08-02 15:55\n",
       "6   29.355  269.4914  203.3500   37.980  177.5000  2019-08-02 15:54\n",
       "7   29.365  269.5300  203.5338   37.995  177.8300  2019-08-02 15:53\n",
       "8   29.380  269.5400  203.4400   38.000  178.1548  2019-08-02 15:52\n",
       "9   29.410  269.6800  203.5611   38.025  177.9500  2019-08-02 15:51"
      ]
     },
     "execution_count": 9,
     "metadata": {},
     "output_type": "execute_result"
    }
   ],
   "source": [
    "df_pd.head(10)"
   ]
  },
  {
   "cell_type": "markdown",
   "metadata": {},
   "source": [
    "<b> <font size=\"4\">Remove TimeStamp as there is a clear time interval ( 1 min) in data"
   ]
  },
  {
   "cell_type": "code",
   "execution_count": 10,
   "metadata": {},
   "outputs": [],
   "source": [
    "df_pd= df_pd.drop(['timestamp'], axis=1)\n"
   ]
  },
  {
   "cell_type": "markdown",
   "metadata": {},
   "source": [
    "<b> <font size=\"4\"> Visualize price fluctuations"
   ]
  },
  {
   "cell_type": "code",
   "execution_count": 11,
   "metadata": {},
   "outputs": [
    {
     "data": {
      "image/png": "[encoded data removed]",
      "text/plain": [
       "<Figure size 1080x360 with 1 Axes>"
      ]
     },
     "metadata": {
      "needs_background": "light"
     },
     "output_type": "display_data"
    },
    {
     "data": {
      "image/png": "[encoded data removed]",
      "text/plain": [
       "<Figure size 1080x360 with 1 Axes>"
      ]
     },
     "metadata": {
      "needs_background": "light"
     },
     "output_type": "display_data"
    },
    {
     "data": {
      "image/png": "[encoded data removed]",
      "text/plain": [
       "<Figure size 1080x360 with 1 Axes>"
      ]
     },
     "metadata": {
      "needs_background": "light"
     },
     "output_type": "display_data"
    },
    {
     "data": {
      "image/png": "[encoded data removed]",
      "text/plain": [
       "<Figure size 1080x360 with 1 Axes>"
      ]
     },
     "metadata": {
      "needs_background": "light"
     },
     "output_type": "display_data"
    },
    {
     "data": {
      "image/png": "[encoded data removed]",
      "text/plain": [
       "<Figure size 1080x360 with 1 Axes>"
      ]
     },
     "metadata": {
      "needs_background": "light"
     },
     "output_type": "display_data"
    }
   ],
   "source": [
    "for i in df_pd.columns:\n",
    "    plt.figure(figsize=(15,5))\n",
    "    plt.plot(df_pd[i], color='blue', label=i)\n",
    "    plt.legend(loc='best')\n",
    "    plt.show()"
   ]
  },
  {
   "cell_type": "markdown",
   "metadata": {},
   "source": [
    "<b> <font size=\"4\"> Convert dataframe to Array"
   ]
  },
  {
   "cell_type": "code",
   "execution_count": 12,
   "metadata": {},
   "outputs": [],
   "source": [
    "df= np.asarray(df_pd)"
   ]
  },
  {
   "cell_type": "markdown",
   "metadata": {},
   "source": [
    "<b> <font size=\"4\"> Train/Validate Split"
   ]
  },
  {
   "cell_type": "code",
   "execution_count": 13,
   "metadata": {},
   "outputs": [],
   "source": [
    "train = df[:int(0.8*(len(df)))]\n",
    "valid = df[int(0.8*(len(df))):]"
   ]
  },
  {
   "cell_type": "code",
   "execution_count": 14,
   "metadata": {},
   "outputs": [
    {
     "data": {
      "text/plain": [
       "((1528, 5), (382, 5))"
      ]
     },
     "execution_count": 14,
     "metadata": {},
     "output_type": "execute_result"
    }
   ],
   "source": [
    "train.shape, valid.shape"
   ]
  },
  {
   "cell_type": "markdown",
   "metadata": {},
   "source": [
    "<b> <font size=\"4\"> Model Training and Prediction.\n",
    "    \n",
    "Due to limited data set, it makes sense to use a simple model - Autoregression"
   ]
  },
  {
   "cell_type": "code",
   "execution_count": 15,
   "metadata": {},
   "outputs": [],
   "source": [
    "from statsmodels.tsa.vector_ar.var_model import VAR\n",
    "\n",
    "var = VAR(endog=train)\n",
    "\n",
    "model = var.fit()\n"
   ]
  },
  {
   "cell_type": "code",
   "execution_count": 16,
   "metadata": {},
   "outputs": [
    {
     "data": {
      "text/plain": [
       "array([[ 30.5348169 , 281.37937005, 209.94734208,  41.45410493,\n",
       "        223.38100687],\n",
       "       [ 30.53964911, 281.4882259 , 210.08480231,  41.4875852 ,\n",
       "        224.18548446],\n",
       "       [ 30.544497  , 281.59657861, 210.21993385,  41.52045576,\n",
       "        224.97383239],\n",
       "       [ 30.54936094, 281.70443899, 210.35278868,  41.55273119,\n",
       "        225.74644115],\n",
       "       [ 30.55424126, 281.81181762, 210.48341757,  41.58442576,\n",
       "        226.50369229]])"
      ]
     },
     "execution_count": 16,
     "metadata": {},
     "output_type": "execute_result"
    }
   ],
   "source": [
    "prediction = model.forecast(model.y, steps=5)\n",
    "prediction"
   ]
  },
  {
   "cell_type": "code",
   "execution_count": 17,
   "metadata": {},
   "outputs": [
    {
     "data": {
      "text/html": [
       "<div>\n",
       "<style scoped>\n",
       "    .dataframe tbody tr th:only-of-type {\n",
       "        vertical-align: middle;\n",
       "    }\n",
       "\n",
       "    .dataframe tbody tr th {\n",
       "        vertical-align: top;\n",
       "    }\n",
       "\n",
       "    .dataframe thead th {\n",
       "        text-align: right;\n",
       "    }\n",
       "</style>\n",
       "<table border=\"1\" class=\"dataframe\">\n",
       "  <thead>\n",
       "    <tr style=\"text-align: right;\">\n",
       "      <th></th>\n",
       "      <th>openBAC</th>\n",
       "      <th>openMA</th>\n",
       "      <th>openAAPL</th>\n",
       "      <th>openPFE</th>\n",
       "      <th>openBYND</th>\n",
       "    </tr>\n",
       "  </thead>\n",
       "  <tbody>\n",
       "    <tr>\n",
       "      <th>0</th>\n",
       "      <td>30.534817</td>\n",
       "      <td>281.379370</td>\n",
       "      <td>209.947342</td>\n",
       "      <td>41.454105</td>\n",
       "      <td>223.381007</td>\n",
       "    </tr>\n",
       "    <tr>\n",
       "      <th>1</th>\n",
       "      <td>30.539649</td>\n",
       "      <td>281.488226</td>\n",
       "      <td>210.084802</td>\n",
       "      <td>41.487585</td>\n",
       "      <td>224.185484</td>\n",
       "    </tr>\n",
       "  </tbody>\n",
       "</table>\n",
       "</div>"
      ],
      "text/plain": [
       "     openBAC      openMA    openAAPL    openPFE    openBYND\n",
       "0  30.534817  281.379370  209.947342  41.454105  223.381007\n",
       "1  30.539649  281.488226  210.084802  41.487585  224.185484"
      ]
     },
     "execution_count": 17,
     "metadata": {},
     "output_type": "execute_result"
    }
   ],
   "source": [
    "pred = pd.DataFrame(prediction, columns=('openBAC','openMA','openAAPL','openPFE','openBYND'))\n",
    "\n",
    "pred.head(2)\n"
   ]
  },
  {
   "cell_type": "markdown",
   "metadata": {},
   "source": [
    "<b> <font size=\"4\">Validate/test the model predictions\n"
   ]
  },
  {
   "cell_type": "code",
   "execution_count": 18,
   "metadata": {},
   "outputs": [
    {
     "data": {
      "text/plain": [
       "array([[ 30.72613471, 283.27789591, 208.70428067,  42.29508606,\n",
       "        229.44337433],\n",
       "       [ 30.73228473, 283.43489332, 208.92448211,  42.34909016,\n",
       "        230.77204972],\n",
       "       [ 30.7384508 , 283.59101114, 209.14069569,  42.40203792,\n",
       "        232.07271293],\n",
       "       ...,\n",
       "       [ 34.32203932, 331.65748551, 230.83936059,  50.09867029,\n",
       "        387.99867072],\n",
       "       [ 34.33334796, 331.80464507, 230.87486845,  50.12442333,\n",
       "        388.47448253],\n",
       "       [ 34.34466682, 331.95205796, 230.91041133,  50.15024391,\n",
       "        388.95142872]])"
      ]
     },
     "execution_count": 18,
     "metadata": {},
     "output_type": "execute_result"
    }
   ],
   "source": [
    "valid_prediction = model.forecast(valid, steps=len(valid))\n",
    "valid_prediction\n"
   ]
  },
  {
   "cell_type": "markdown",
   "metadata": {},
   "source": []
  },
  {
   "cell_type": "markdown",
   "metadata": {},
   "source": [
    "<b><font size=\"5\"> Performance Metrics"
   ]
  },
  {
   "cell_type": "markdown",
   "metadata": {},
   "source": [
    "<b><font size=\"4\"> Average Absolute Error"
   ]
  },
  {
   "cell_type": "code",
   "execution_count": 19,
   "metadata": {},
   "outputs": [
    {
     "name": "stdout",
     "output_type": "stream",
     "text": [
      "Average absolute error: 28.19 degrees.\n"
     ]
    }
   ],
   "source": [
    "step1_errors = abs(valid_prediction - valid)\n",
    "print('Average absolute error:', round(np.mean(step1_errors), 2), 'degrees.')\n"
   ]
  },
  {
   "cell_type": "markdown",
   "metadata": {},
   "source": [
    "<b><font size=\"4\"> Accuracy"
   ]
  },
  {
   "cell_type": "code",
   "execution_count": 20,
   "metadata": {},
   "outputs": [
    {
     "name": "stdout",
     "output_type": "stream",
     "text": [
      "Accuracy: 85.09 %\n"
     ]
    }
   ],
   "source": [
    "step1_mape = 100 * (step1_errors / valid)\n",
    "step1_acc = 100 - np.mean(step1_mape)\n",
    "print('Accuracy:', round(step1_acc, 2), '%')"
   ]
  },
  {
   "cell_type": "code",
   "execution_count": 21,
   "metadata": {},
   "outputs": [
    {
     "data": {
      "text/plain": [
       "  Summary of Regression Results   \n",
       "==================================\n",
       "Model:                         VAR\n",
       "Method:                        OLS\n",
       "Date:           Fri, 11, Oct, 2019\n",
       "Time:                     14:44:01\n",
       "--------------------------------------------------------------------\n",
       "No. of Equations:         5.00000    BIC:                   -19.0339\n",
       "Nobs:                     1527.00    HQIC:                  -19.0996\n",
       "Log likelihood:           3808.75    FPE:                4.87750e-09\n",
       "AIC:                     -19.1386    Det(Omega_mle):     4.78280e-09\n",
       "--------------------------------------------------------------------\n",
       "Results for equation y1\n",
       "========================================================================\n",
       "           coefficient       std. error           t-stat            prob\n",
       "------------------------------------------------------------------------\n",
       "const        -0.175531         0.089104           -1.970           0.049\n",
       "L1.y1         0.994507         0.003118          318.950           0.000\n",
       "L1.y2         0.000506         0.000260            1.951           0.051\n",
       "L1.y3         0.000429         0.000276            1.552           0.121\n",
       "L1.y4         0.004215         0.002816            1.497           0.134\n",
       "L1.y5        -0.000265         0.000153           -1.725           0.084\n",
       "========================================================================\n",
       "\n",
       "Results for equation y2\n",
       "========================================================================\n",
       "           coefficient       std. error           t-stat            prob\n",
       "------------------------------------------------------------------------\n",
       "const        -1.545811         0.902952           -1.712           0.087\n",
       "L1.y1         0.027036         0.031597            0.856           0.392\n",
       "L1.y2         0.996730         0.002630          378.936           0.000\n",
       "L1.y3        -0.003289         0.002798           -1.175           0.240\n",
       "L1.y4         0.074363         0.028535            2.606           0.009\n",
       "L1.y5        -0.002878         0.001555           -1.851           0.064\n",
       "========================================================================\n",
       "\n",
       "Results for equation y3\n",
       "========================================================================\n",
       "           coefficient       std. error           t-stat            prob\n",
       "------------------------------------------------------------------------\n",
       "const        -2.841065         1.119429           -2.538           0.011\n",
       "L1.y1         0.071886         0.039173            1.835           0.066\n",
       "L1.y2        -0.004077         0.003261           -1.250           0.211\n",
       "L1.y3         0.991360         0.003469          285.759           0.000\n",
       "L1.y4         0.125466         0.035376            3.547           0.000\n",
       "L1.y5        -0.006520         0.001927           -3.383           0.001\n",
       "========================================================================\n",
       "\n",
       "Results for equation y4\n",
       "========================================================================\n",
       "           coefficient       std. error           t-stat            prob\n",
       "------------------------------------------------------------------------\n",
       "const        -0.810103         0.216965           -3.734           0.000\n",
       "L1.y1         0.022313         0.007592            2.939           0.003\n",
       "L1.y2        -0.000490         0.000632           -0.776           0.438\n",
       "L1.y3        -0.002456         0.000672           -3.652           0.000\n",
       "L1.y4         1.028189         0.006856          149.959           0.000\n",
       "L1.y5        -0.001579         0.000374           -4.227           0.000\n",
       "========================================================================\n",
       "\n",
       "Results for equation y5\n",
       "========================================================================\n",
       "           coefficient       std. error           t-stat            prob\n",
       "------------------------------------------------------------------------\n",
       "const       -23.424394         4.442201           -5.273           0.000\n",
       "L1.y1         0.545141         0.155448            3.507           0.000\n",
       "L1.y2        -0.011301         0.012940           -0.873           0.383\n",
       "L1.y3        -0.052979         0.013767           -3.848           0.000\n",
       "L1.y4         0.769094         0.140381            5.479           0.000\n",
       "L1.y5         0.955250         0.007648          124.895           0.000\n",
       "========================================================================\n",
       "\n",
       "Correlation matrix of residuals\n",
       "            y1        y2        y3        y4        y5\n",
       "y1    1.000000  0.362645  0.266550  0.359376  0.306944\n",
       "y2    0.362645  1.000000  0.453165  0.229430  0.088200\n",
       "y3    0.266550  0.453165  1.000000  0.136698  0.085744\n",
       "y4    0.359376  0.229430  0.136698  1.000000  0.674856\n",
       "y5    0.306944  0.088200  0.085744  0.674856  1.000000\n",
       "\n"
      ]
     },
     "execution_count": 21,
     "metadata": {},
     "output_type": "execute_result"
    }
   ],
   "source": [
    "model.summary()"
   ]
  },
  {
   "cell_type": "code",
   "execution_count": 22,
   "metadata": {},
   "outputs": [],
   "source": [
    "def visualize_results():\n",
    "    bac=[]\n",
    "    bac_predicted=[]\n",
    "    for i in range(0, len(valid)):\n",
    "        bac.append(valid[i][3])\n",
    "        bac_predicted.append(valid_prediction[i][3])\n",
    "\n",
    "    plt.figure(figsize=(21,7))\n",
    "    plt.plot(bac,label='Price',color='blue')\n",
    "    plt.plot(bac_predicted,label='Predicted',color='red')\n",
    "    plt.title('Price vs Predicted')\n",
    "    plt.legend(loc='upper left')\n",
    "    plt.show()\n",
    "    return 1\n",
    "    "
   ]
  },
  {
   "cell_type": "markdown",
   "metadata": {},
   "source": [
    "<b> <font size=\"4\"> STOCK PRICE FOR NEXT 5 MINUTES BASIS \"Autoregression model\"\n"
   ]
  },
  {
   "cell_type": "code",
   "execution_count": 23,
   "metadata": {},
   "outputs": [
    {
     "name": "stdout",
     "output_type": "stream",
     "text": [
      "Predicted price at 5 mins Intervals: \n",
      "[[ 30.72613471 283.27789591 208.70428067  42.29508606 229.44337433]\n",
      " [ 30.73228473 283.43489332 208.92448211  42.34909016 230.77204972]\n",
      " [ 30.7384508  283.59101114 209.14069569  42.40203792 232.07271293]\n",
      " [ 30.74463363 283.74626788 209.35301071  42.45395438 233.34603507]\n",
      " [ 30.75083392 283.90068162 209.56151444  42.50486401 234.5926719 ]]\n"
     ]
    }
   ],
   "source": [
    "#Input (current prices)\n",
    "new_data = np.array([(30.72,283.12,208.48,42.24,228.086)])\n",
    "prediction_new = model.forecast(new_data, steps=5)\n",
    "print(\"Predicted price at 5 mins Intervals: \")\n",
    "print(prediction_new)"
   ]
  },
  {
   "cell_type": "markdown",
   "metadata": {},
   "source": [
    "<b><font size=\"4\"> STEP 1 ENDS"
   ]
  },
  {
   "cell_type": "raw",
   "metadata": {},
   "source": []
  },
  {
   "cell_type": "raw",
   "metadata": {},
   "source": []
  },
  {
   "cell_type": "raw",
   "metadata": {},
   "source": []
  },
  {
   "cell_type": "raw",
   "metadata": {},
   "source": []
  },
  {
   "cell_type": "markdown",
   "metadata": {},
   "source": [
    "<b><font size=\"4\"> STEP 2 BEGINS"
   ]
  },
  {
   "cell_type": "markdown",
   "metadata": {},
   "source": [
    "<b> <font size=\"4\">Loading twitter feed into spark dataframe\n"
   ]
  },
  {
   "cell_type": "markdown",
   "metadata": {},
   "source": [
    "<b> <font size=\"4\">Alternatively, one can load directly in pandas for simplicity and convert to spark dataframe later if needed.</b>"
   ]
  },
  {
   "cell_type": "code",
   "execution_count": 24,
   "metadata": {},
   "outputs": [],
   "source": [
    "import pandas as pd\n",
    "df = pd.read_csv('twitterfeed.csv')\n",
    "\n",
    "df_spark = spark.createDataFrame(df)"
   ]
  },
  {
   "cell_type": "markdown",
   "metadata": {},
   "source": [
    "<b> <font size=\"4\"> Number of records in twitter file"
   ]
  },
  {
   "cell_type": "code",
   "execution_count": 25,
   "metadata": {},
   "outputs": [
    {
     "data": {
      "text/plain": [
       "3006"
      ]
     },
     "execution_count": 25,
     "metadata": {},
     "output_type": "execute_result"
    }
   ],
   "source": [
    "df_spark.count()"
   ]
  },
  {
   "cell_type": "markdown",
   "metadata": {},
   "source": [
    "<b> <font size=\"4\"> Check data schema"
   ]
  },
  {
   "cell_type": "code",
   "execution_count": 26,
   "metadata": {},
   "outputs": [
    {
     "name": "stdout",
     "output_type": "stream",
     "text": [
      "root\n",
      " |-- Screen Name: string (nullable = true)\n",
      " |-- User Name: string (nullable = true)\n",
      " |-- Tweet Created At: string (nullable = true)\n",
      " |-- Tweet Text: string (nullable = true)\n",
      " |-- Tweet Coordinates: string (nullable = true)\n",
      " |-- Retweet Count: long (nullable = true)\n",
      " |-- Phone Type: string (nullable = true)\n",
      " |-- Favorite Count: long (nullable = true)\n",
      " |-- Favorited: boolean (nullable = true)\n",
      " |-- Type: string (nullable = true)\n",
      "\n"
     ]
    }
   ],
   "source": [
    "df_spark.printSchema()"
   ]
  },
  {
   "cell_type": "markdown",
   "metadata": {},
   "source": [
    "<b> <font size=\"4\"> View Data"
   ]
  },
  {
   "cell_type": "code",
   "execution_count": 27,
   "metadata": {},
   "outputs": [
    {
     "name": "stdout",
     "output_type": "stream",
     "text": [
      "+-----------+---------+----------------+--------------------+-----------------+-------------+--------------------+--------------+---------+--------------------+\n",
      "|Screen Name|User Name|Tweet Created At|          Tweet Text|Tweet Coordinates|Retweet Count|          Phone Type|Favorite Count|Favorited|                Type|\n",
      "+-----------+---------+----------------+--------------------+-----------------+-------------+--------------------+--------------+---------+--------------------+\n",
      "|       CNBC|     CNBC|2019-08-02 22:42|Liz Dunn, founder...|             None|            5|Twitter Media Studio|             6|    false|from:cnbc -filter...|\n",
      "|       CNBC|     CNBC|2019-08-02 22:14|The @SquawkCNBC c...|             None|            1|Twitter Media Studio|             7|    false|from:cnbc -filter...|\n",
      "|       CNBC|     CNBC|2019-08-02 22:12|This one phrase c...|             None|            4|          SocialFlow|            19|    false|from:cnbc -filter...|\n",
      "|       CNBC|     CNBC|2019-08-02 21:43|CNBC's @onlyyoont...|             None|            6|Twitter Media Studio|            14|    false|from:cnbc -filter...|\n",
      "|       CNBC|     CNBC|2019-08-02 21:27|Johnson &amp; Joh...|             None|            8|          SocialFlow|             6|    false|from:cnbc -filter...|\n",
      "+-----------+---------+----------------+--------------------+-----------------+-------------+--------------------+--------------+---------+--------------------+\n",
      "only showing top 5 rows\n",
      "\n"
     ]
    }
   ],
   "source": [
    "df_spark.show(5, truncate=20)"
   ]
  },
  {
   "cell_type": "markdown",
   "metadata": {},
   "source": [
    "<b> <font size=\"4\"> View STATS"
   ]
  },
  {
   "cell_type": "code",
   "execution_count": 28,
   "metadata": {},
   "outputs": [
    {
     "name": "stdout",
     "output_type": "stream",
     "text": [
      "+-------+-----------+----------+----------------+----------+-----------------+-------------+----------+--------------+----------+\n",
      "|summary|Screen Name| User Name|Tweet Created At|Tweet Text|Tweet Coordinates|Retweet Count|Phone Type|Favorite Count|      Type|\n",
      "+-------+-----------+----------+----------------+----------+-----------------+-------------+----------+--------------+----------+\n",
      "|  count|       3006|      3006|            3006|      3006|             3006|         3006|      3006|          3006|      3006|\n",
      "|   mean|       null|      null|            null|      null|             null|   13.4411...|      null|    27.9614...|      null|\n",
      "| stddev|       null|      null|            null|      null|             null|   181.392...|      null|    469.045...|      null|\n",
      "|    min|   Benzinga|  Benzinga|      2019-07...|\"...the...|             None|            0|Hootsui...|             0|from:IB...|\n",
      "|    max| nytimes...|WSJ Mar...|      2019-08...|⚡️ “Pow...|             None|         9689|   dlvr.it|         25440|from:st...|\n",
      "+-------+-----------+----------+----------------+----------+-----------------+-------------+----------+--------------+----------+\n",
      "\n"
     ]
    }
   ],
   "source": [
    "df_spark.describe().show(10, truncate=10)"
   ]
  },
  {
   "cell_type": "markdown",
   "metadata": {},
   "source": [
    "<b> <font size=\"4\"> Register Spark Data Frame as Table to perform SQL Operations"
   ]
  },
  {
   "cell_type": "code",
   "execution_count": 29,
   "metadata": {},
   "outputs": [],
   "source": [
    "df_spark.registerTempTable(\"spark_tbl\")"
   ]
  },
  {
   "cell_type": "markdown",
   "metadata": {},
   "source": [
    "<b> <font size=\"5\"> Analyze features"
   ]
  },
  {
   "cell_type": "markdown",
   "metadata": {},
   "source": [
    "<b> <font size=\"4\"> Feature- Screen Name"
   ]
  },
  {
   "cell_type": "code",
   "execution_count": 30,
   "metadata": {},
   "outputs": [
    {
     "name": "stdout",
     "output_type": "stream",
     "text": [
      "+---------------+--------+\n",
      "|Screen Name    |count(1)|\n",
      "+---------------+--------+\n",
      "|CNBC           |1662    |\n",
      "|nytimesbusiness|590     |\n",
      "|Benzinga       |241     |\n",
      "|WSJmarkets     |203     |\n",
      "|bespokeinvest  |109     |\n",
      "|IBDinvestors   |88      |\n",
      "|Stocktwits     |69      |\n",
      "|BreakoutStocks |44      |\n",
      "+---------------+--------+\n",
      "\n"
     ]
    }
   ],
   "source": [
    "spark.sql('''select `Screen Name`,  count (1)\n",
    "              from spark_tbl\n",
    "              group by 1\n",
    "              order by 2 desc\n",
    "              ''').show(50, False)"
   ]
  },
  {
   "cell_type": "markdown",
   "metadata": {},
   "source": [
    "<b> <font size=\"4\"> Looks like CNBC is the most common screen name which is 50% of the data.\n",
    "    So this feature can be ignore other wise dataset will become imbalanced. Similar is the case with User Name as shown below"
   ]
  },
  {
   "cell_type": "code",
   "execution_count": 31,
   "metadata": {},
   "outputs": [
    {
     "name": "stdout",
     "output_type": "stream",
     "text": [
      "+-------------------+--------+\n",
      "|User Name          |count(1)|\n",
      "+-------------------+--------+\n",
      "|CNBC               |1662    |\n",
      "|NYT Business       |590     |\n",
      "|Benzinga           |241     |\n",
      "|WSJ Markets        |203     |\n",
      "|Bespoke            |109     |\n",
      "|Investors.com      |88      |\n",
      "|Stocktwits         |69      |\n",
      "|Top Breakout Stocks|44      |\n",
      "+-------------------+--------+\n",
      "\n"
     ]
    }
   ],
   "source": [
    "spark.sql('''select `User Name`,  count (1)\n",
    "              from spark_tbl\n",
    "              group by 1\n",
    "              order by 2 desc\n",
    "              ''').show(100, False)"
   ]
  },
  {
   "cell_type": "markdown",
   "metadata": {},
   "source": [
    "<b> <font size=\"2\">Tweet feature is null so ignore it"
   ]
  },
  {
   "cell_type": "code",
   "execution_count": 32,
   "metadata": {},
   "outputs": [
    {
     "name": "stdout",
     "output_type": "stream",
     "text": [
      "+-----------------+--------+\n",
      "|Tweet Coordinates|count(1)|\n",
      "+-----------------+--------+\n",
      "|None             |3006    |\n",
      "+-----------------+--------+\n",
      "\n"
     ]
    }
   ],
   "source": [
    "spark.sql('''select `Tweet Coordinates`,  count (1)\n",
    "              from spark_tbl\n",
    "              group by 1\n",
    "              order by 1 asc\n",
    "              ''').show(100, False)\n"
   ]
  },
  {
   "cell_type": "markdown",
   "metadata": {},
   "source": [
    "<b> <font size=\"4\"> Correlation among Numeric Features"
   ]
  },
  {
   "cell_type": "code",
   "execution_count": 33,
   "metadata": {},
   "outputs": [
    {
     "data": {
      "image/png": "[encoded data removed]",
      "text/plain": [
       "<Figure size 720x720 with 2 Axes>"
      ]
     },
     "metadata": {
      "needs_background": "light"
     },
     "output_type": "display_data"
    }
   ],
   "source": [
    "plt.figure(figsize=(10,10))\n",
    "sns.heatmap(df.corr(), square=True, annot=True, cmap='Reds',linecolor=\"black\", linewidths=0.20)\n",
    "plt.show()"
   ]
  },
  {
   "cell_type": "markdown",
   "metadata": {},
   "source": [
    "<b> <font size=\"4\"> Feature - Retweet Count"
   ]
  },
  {
   "cell_type": "code",
   "execution_count": 34,
   "metadata": {},
   "outputs": [
    {
     "name": "stdout",
     "output_type": "stream",
     "text": [
      "+-------------+-----+\n",
      "|Retweet Count|count|\n",
      "+-------------+-----+\n",
      "|            0|  176|\n",
      "|            1|  299|\n",
      "|            2|  304|\n",
      "|            3|  308|\n",
      "|            4|  267|\n",
      "|            5|  221|\n",
      "|            6|  179|\n",
      "|            7|  155|\n",
      "|            8|  147|\n",
      "|            9|  129|\n",
      "|           10|   97|\n",
      "|           11|   61|\n",
      "|           12|   62|\n",
      "|           13|   74|\n",
      "|           14|   48|\n",
      "|           15|   48|\n",
      "|           16|   51|\n",
      "|           17|   33|\n",
      "|           18|   28|\n",
      "|           19|   26|\n",
      "+-------------+-----+\n",
      "only showing top 20 rows\n",
      "\n"
     ]
    }
   ],
   "source": [
    "df_retweet=spark.sql('''select `Retweet Count`,  count (1) as count\n",
    "              from spark_tbl\n",
    "              group by 1\n",
    "              order by 1 asc\n",
    "              ''')\n",
    "df_retweet.show()"
   ]
  },
  {
   "cell_type": "code",
   "execution_count": 35,
   "metadata": {},
   "outputs": [],
   "source": [
    "df_retweet=df_retweet.toPandas()"
   ]
  },
  {
   "cell_type": "code",
   "execution_count": 36,
   "metadata": {},
   "outputs": [
    {
     "data": {
      "image/png": "[encoded data removed]",
      "text/plain": [
       "<Figure size 432x288 with 1 Axes>"
      ]
     },
     "metadata": {
      "needs_background": "light"
     },
     "output_type": "display_data"
    }
   ],
   "source": [
    "sns.distplot(df_retweet['count'])\n",
    "plt.show()"
   ]
  },
  {
   "cell_type": "code",
   "execution_count": 37,
   "metadata": {},
   "outputs": [
    {
     "name": "stderr",
     "output_type": "stream",
     "text": [
      "/Users/jatinmalhotra/anaconda3/lib/python3.7/site-packages/seaborn/categorical.py:3666: UserWarning: The `factorplot` function has been renamed to `catplot`. The original name will be removed in a future release. Please update your code. Note that the default `kind` in `factorplot` (`'point'`) has changed `'strip'` in `catplot`.\n",
      "  warnings.warn(msg)\n"
     ]
    },
    {
     "data": {
      "image/png": "[encoded data removed]",
      "text/plain": [
       "<Figure size 360x360 with 1 Axes>"
      ]
     },
     "metadata": {
      "needs_background": "light"
     },
     "output_type": "display_data"
    }
   ],
   "source": [
    "sns.factorplot(x=\"count\",y=\"Retweet Count\",data=df_retweet)\n",
    "plt.show()"
   ]
  },
  {
   "cell_type": "code",
   "execution_count": 38,
   "metadata": {},
   "outputs": [
    {
     "data": {
      "image/png": "[encoded data removed]",
      "text/plain": [
       "<Figure size 432x288 with 1 Axes>"
      ]
     },
     "metadata": {
      "needs_background": "light"
     },
     "output_type": "display_data"
    }
   ],
   "source": [
    "sns.barplot(x=\"Retweet Count\",y=\"count\",data=df_retweet)\n",
    "plt.show()"
   ]
  },
  {
   "cell_type": "markdown",
   "metadata": {},
   "source": [
    "<b> <font size=\"4\"> Feature - Favorite Count"
   ]
  },
  {
   "cell_type": "code",
   "execution_count": 39,
   "metadata": {},
   "outputs": [
    {
     "name": "stdout",
     "output_type": "stream",
     "text": [
      "+--------------+-----+\n",
      "|Favorite Count|count|\n",
      "+--------------+-----+\n",
      "|             0|  182|\n",
      "|             1|  244|\n",
      "|             2|  216|\n",
      "|             3|  182|\n",
      "|             4|  152|\n",
      "|             5|  143|\n",
      "|             6|  101|\n",
      "|             7|  113|\n",
      "|             8|   98|\n",
      "|             9|   97|\n",
      "|            10|   92|\n",
      "|            11|   74|\n",
      "|            12|   90|\n",
      "|            13|   88|\n",
      "|            14|   94|\n",
      "|            15|   49|\n",
      "|            16|   60|\n",
      "|            17|   56|\n",
      "|            18|   49|\n",
      "|            19|   47|\n",
      "+--------------+-----+\n",
      "only showing top 20 rows\n",
      "\n"
     ]
    }
   ],
   "source": [
    "df_favorite=spark.sql('''select `Favorite Count`,  count (1) as count\n",
    "              from spark_tbl\n",
    "              group by 1\n",
    "              order by 1 asc\n",
    "              ''')\n",
    "df_favorite.show()"
   ]
  },
  {
   "cell_type": "code",
   "execution_count": 40,
   "metadata": {},
   "outputs": [],
   "source": [
    "df_favorite=df_favorite.toPandas()"
   ]
  },
  {
   "cell_type": "code",
   "execution_count": 41,
   "metadata": {},
   "outputs": [
    {
     "data": {
      "image/png": "[encoded data removed]",
      "text/plain": [
       "<Figure size 432x288 with 1 Axes>"
      ]
     },
     "metadata": {
      "needs_background": "light"
     },
     "output_type": "display_data"
    }
   ],
   "source": [
    "sns.barplot(x=\"Favorite Count\",y=\"count\",data=df_favorite)\n",
    "plt.show()"
   ]
  },
  {
   "cell_type": "markdown",
   "metadata": {},
   "source": [
    "<b> <font size=\"4\"> Feature - Tweet Created At"
   ]
  },
  {
   "cell_type": "code",
   "execution_count": 42,
   "metadata": {},
   "outputs": [
    {
     "name": "stdout",
     "output_type": "stream",
     "text": [
      "+----------------+-----+\n",
      "|Tweet Created At|count|\n",
      "+----------------+-----+\n",
      "|2019-08-02 19:33|    7|\n",
      "|2019-07-30 13:03|    6|\n",
      "|2019-07-31 18:01|    5|\n",
      "|2019-08-01 19:50|    5|\n",
      "|2019-08-01 14:47|    5|\n",
      "|2019-07-30 20:34|    4|\n",
      "|2019-07-30 11:02|    4|\n",
      "|2019-07-24 14:01|    4|\n",
      "|2019-08-02 12:32|    4|\n",
      "|2019-07-25 20:08|    4|\n",
      "|2019-07-30 20:21|    4|\n",
      "|2019-07-30 20:55|    4|\n",
      "|2019-08-01 20:02|    4|\n",
      "|2019-07-28 13:02|    4|\n",
      "|2019-07-26 17:47|    4|\n",
      "|2019-07-26 12:31|    4|\n",
      "|2019-08-01 11:01|    4|\n",
      "|2019-08-02 16:05|    3|\n",
      "|2019-08-01 13:49|    3|\n",
      "|2019-07-29 20:02|    3|\n",
      "+----------------+-----+\n",
      "only showing top 20 rows\n",
      "\n"
     ]
    }
   ],
   "source": [
    "df_created=spark.sql('''select `Tweet Created At`,  count (1) as count\n",
    "              from spark_tbl\n",
    "              group by 1\n",
    "              order by 2 desc\n",
    "              ''')\n",
    "df_created.show()"
   ]
  },
  {
   "cell_type": "markdown",
   "metadata": {},
   "source": [
    "<b> <font size=\"4\"> Get important features only. Remove Rest"
   ]
  },
  {
   "cell_type": "code",
   "execution_count": 43,
   "metadata": {},
   "outputs": [
    {
     "name": "stdout",
     "output_type": "stream",
     "text": [
      "+-------------------+--------------------+-------------+--------------+\n",
      "|   tweet_created_at|          tweet_text|retweet_count|favorite_count|\n",
      "+-------------------+--------------------+-------------+--------------+\n",
      "|2019-08-02 22:42:00|Liz Dunn, founder...|            5|             6|\n",
      "|2019-08-02 22:14:00|The @SquawkCNBC c...|            1|             7|\n",
      "|2019-08-02 22:12:00|This one phrase c...|            4|            19|\n",
      "|2019-08-02 21:43:00|CNBC's @onlyyoont...|            6|            14|\n",
      "|2019-08-02 21:27:00|Johnson &amp; Joh...|            8|             6|\n",
      "|2019-08-02 21:12:00|Kathryn Thompson,...|            3|            11|\n",
      "|2019-08-02 20:36:00|Eli Lilly confirm...|            8|            17|\n",
      "|2019-08-02 20:22:00|Nobel Prize winni...|           27|            51|\n",
      "|2019-08-02 20:09:00|Perfect storm bui...|            7|            15|\n",
      "|2019-08-02 20:03:00|All 3 major U.S. ...|           16|            22|\n",
      "|2019-08-02 20:02:00|Why are some peop...|            3|            11|\n",
      "|2019-08-02 19:44:00|Robert Mueller's ...|           18|            36|\n",
      "|2019-08-02 19:44:00|Home improvement ...|           14|            17|\n",
      "|2019-08-02 19:39:00|EU nominates Kris...|           16|            15|\n",
      "|2019-08-02 19:33:00|IBM lowers 2019 e...|            4|            10|\n",
      "|2019-08-02 19:22:00|Why do airlines o...|            8|            23|\n",
      "|2019-08-02 19:05:00|Thomas Edison did...|            6|            40|\n",
      "|2019-08-02 19:03:00|You're not alone ...|            2|            22|\n",
      "|2019-08-02 19:02:00|Markets tanked on...|            2|            10|\n",
      "|2019-08-02 18:42:00|Watch NASA's newe...|            8|            26|\n",
      "+-------------------+--------------------+-------------+--------------+\n",
      "only showing top 20 rows\n",
      "\n"
     ]
    }
   ],
   "source": [
    "df=spark.sql('''select CAST(`Tweet Created At` AS timestamp) as tweet_created_at,\n",
    "                        `Tweet Text` as tweet_text,\n",
    "                        `Retweet Count` as retweet_count,\n",
    "                        `Favorite Count` as favorite_count\n",
    "                         from spark_tbl\n",
    "                          ''')\n",
    "df.show()\n"
   ]
  },
  {
   "cell_type": "markdown",
   "metadata": {},
   "source": [
    "<b> <font size=\"4\"> Register dataframe as sql data"
   ]
  },
  {
   "cell_type": "code",
   "execution_count": 44,
   "metadata": {},
   "outputs": [],
   "source": [
    "df.registerTempTable(\"spark_tbl\")"
   ]
  },
  {
   "cell_type": "markdown",
   "metadata": {},
   "source": [
    "<b> <font size=\"4\">In Real Project Implementation, A NLP Sentiments Analysis model will need to be developed using labelled historical news of interest. In other words, following will be the data requirements:-</b> \n",
    "\n",
    "\n",
    "<font size=\"3\">\n",
    "1) Collect all historical news related to either stock itself or the industry stock belongs to and label the news as positive or negative or neutral. (it would be great to have polarity score as well, which means how much % is the news positive or negative or neutral). This needs to be done manually using domain expertised knowledge.\n",
    "\n",
    "\n",
    "2) Develop a NLP sentiment analysis model which will learn from above training data to be able to classify future news content.\n",
    "\n",
    "For the purpose of this test, I am using a combination of TextBlob and Vader libraries to classify the news content since there is no news training data given (Twitter news data is not labelled. hence cannot be used for training). \n",
    "\n",
    "These two libraries are pre-trained sentiment analysis models. If I do not use this library then I will have to create a labelled twitter news data manually and then trained a model which will be very time consuming and out of the scope of this project.\n"
   ]
  },
  {
   "cell_type": "markdown",
   "metadata": {},
   "source": [
    "<b> <font size=\"4\"> Use NLTK Vader and TextBlob library to do tweet text sentimental analyis"
   ]
  },
  {
   "cell_type": "code",
   "execution_count": 45,
   "metadata": {},
   "outputs": [],
   "source": [
    "def evaluate_sentiments(p_txt):\n",
    "\n",
    "    \n",
    "    text_tb = TextBlob(p_txt)\n",
    "\n",
    "    analyzer = SentimentIntensityAnalyzer()\n",
    "    text_vs = analyzer.polarity_scores(p_txt)\n",
    "    \n",
    "    \n",
    "    if text_tb.sentiment.polarity <= 0 and text_vs['compound'] <= -0.5:\n",
    "        sentiment = \"negative\"  # very negative\n",
    "    elif text_tb.sentiment.polarity <= 0 and text_vs['compound'] <= -0.1:\n",
    "        sentiment = \"negative\"  # somewhat negative\n",
    "    elif text_tb.sentiment.polarity == 0 and text_vs['compound'] > -0.1 and text_vs['compound'] < 0.1:\n",
    "        sentiment = \"neutral\"\n",
    "    elif text_tb.sentiment.polarity >= 0 and text_vs['compound'] >= 0.1:\n",
    "        sentiment = \"positive\"  # somewhat positive\n",
    "    elif text_tb.sentiment.polarity > 0 and text_vs['compound'] >= 0.1:\n",
    "        sentiment = \"positive\"  # very positive\n",
    "    else:\n",
    "        sentiment = \"neutral\"\n",
    "   \n",
    "    polarity = (text_tb.sentiment.polarity + text_vs['compound']) / 2\n",
    "   \n",
    "    \n",
    "    return polarity\n"
   ]
  },
  {
   "cell_type": "markdown",
   "metadata": {},
   "source": [
    "<b> <font size=\"4\"> Define function as UDF"
   ]
  },
  {
   "cell_type": "code",
   "execution_count": 46,
   "metadata": {},
   "outputs": [
    {
     "data": {
      "text/plain": [
       "<function __main__.evaluate_sentiments(p_txt)>"
      ]
     },
     "execution_count": 46,
     "metadata": {},
     "output_type": "execute_result"
    }
   ],
   "source": [
    "spark.udf.register(\"evaluate_sentiments\", evaluate_sentiments)    "
   ]
  },
  {
   "cell_type": "markdown",
   "metadata": {},
   "source": [
    "<b> <font size=\"4\"> Call evaluate_sentiments function to get polarity score for each news text"
   ]
  },
  {
   "cell_type": "code",
   "execution_count": 47,
   "metadata": {},
   "outputs": [
    {
     "name": "stdout",
     "output_type": "stream",
     "text": [
      "+-------------------+--------------------+--------------------+-------------+--------------+\n",
      "|   tweet_created_at|          tweet_text|            polarity|retweet_count|favorite_count|\n",
      "+-------------------+--------------------+--------------------+-------------+--------------+\n",
      "|2019-08-02 22:42:00|Liz Dunn, founder...|             0.17345|            5|             6|\n",
      "|2019-08-02 22:14:00|The @SquawkCNBC c...|  0.2956909090909091|            1|             7|\n",
      "|2019-08-02 22:12:00|This one phrase c...|              0.7062|            4|            19|\n",
      "|2019-08-02 21:43:00|CNBC's @onlyyoont...| -0.1951681818181818|            6|            14|\n",
      "|2019-08-02 21:27:00|Johnson &amp; Joh...|             0.10115|            8|             6|\n",
      "|2019-08-02 21:12:00|Kathryn Thompson,...|             -0.2997|            3|            11|\n",
      "|2019-08-02 20:36:00|Eli Lilly confirm...| 0.04659090909090909|            8|            17|\n",
      "|2019-08-02 20:22:00|Nobel Prize winni...| 0.27514999999999995|           27|            51|\n",
      "|2019-08-02 20:09:00|Perfect storm bui...|  0.2795666666666667|            7|            15|\n",
      "|2019-08-02 20:03:00|All 3 major U.S. ...|-0.07012499999999999|           16|            22|\n",
      "|2019-08-02 20:02:00|Why are some peop...|              0.4488|            3|            11|\n",
      "|2019-08-02 19:44:00|Robert Mueller's ...|             0.28835|           18|            36|\n",
      "|2019-08-02 19:44:00|Home improvement ...|              0.2294|           14|            17|\n",
      "|2019-08-02 19:39:00|EU nominates Kris...|                 0.0|           16|            15|\n",
      "|2019-08-02 19:33:00|IBM lowers 2019 e...|              -0.064|            4|            10|\n",
      "|2019-08-02 19:22:00|Why do airlines o...|              -0.148|            8|            23|\n",
      "|2019-08-02 19:05:00|Thomas Edison did...| 0.16666666666666666|            6|            40|\n",
      "|2019-08-02 19:03:00|You're not alone ...|             0.34385|            2|            22|\n",
      "|2019-08-02 19:02:00|Markets tanked on...|             -0.0116|            2|            10|\n",
      "|2019-08-02 18:42:00|Watch NASA's newe...|                 0.0|            8|            26|\n",
      "+-------------------+--------------------+--------------------+-------------+--------------+\n",
      "only showing top 20 rows\n",
      "\n"
     ]
    }
   ],
   "source": [
    "df_1 =spark.sql('''select tweet_created_at,\n",
    "                        tweet_text,\n",
    "                        evaluate_sentiments(tweet_text) polarity,\n",
    "                        retweet_count,\n",
    "                        favorite_count\n",
    "                         from spark_tbl\n",
    "                          ''')\n",
    "\n",
    "\n",
    "df_1.show()"
   ]
  },
  {
   "cell_type": "code",
   "execution_count": 48,
   "metadata": {},
   "outputs": [],
   "source": [
    "df_1.registerTempTable('spark_tbl1')"
   ]
  },
  {
   "cell_type": "markdown",
   "metadata": {},
   "source": [
    "<b> <font size=\"3\">Polarity score is impacted by number of people favorite the tweet as well how old is the tweet. Simple calculation is used\n",
    "for now but this calculation needs to come as a business rquirement in actual project\n"
   ]
  },
  {
   "cell_type": "code",
   "execution_count": 49,
   "metadata": {},
   "outputs": [
    {
     "name": "stdout",
     "output_type": "stream",
     "text": [
      "+-------------------+--------------+\n",
      "|   tweet_created_at|polarity_score|\n",
      "+-------------------+--------------+\n",
      "|2019-08-02 22:42:00|          0.21|\n",
      "|2019-08-02 22:14:00|          2.07|\n",
      "|2019-08-02 22:12:00|          3.35|\n",
      "|2019-08-02 21:43:00|         -0.46|\n",
      "|2019-08-02 21:27:00|          0.08|\n",
      "|2019-08-02 21:12:00|          -1.1|\n",
      "|2019-08-02 20:36:00|           0.1|\n",
      "|2019-08-02 20:22:00|          0.52|\n",
      "|2019-08-02 20:09:00|           0.6|\n",
      "|2019-08-02 20:03:00|          -0.1|\n",
      "|2019-08-02 20:02:00|          1.65|\n",
      "|2019-08-02 19:44:00|          0.58|\n",
      "|2019-08-02 19:44:00|          0.28|\n",
      "|2019-08-02 19:39:00|           0.0|\n",
      "|2019-08-02 19:33:00|         -0.16|\n",
      "|2019-08-02 19:22:00|         -0.43|\n",
      "|2019-08-02 19:05:00|          1.11|\n",
      "|2019-08-02 19:03:00|          3.78|\n",
      "|2019-08-02 19:02:00|         -0.06|\n",
      "|2019-08-02 18:42:00|           0.0|\n",
      "+-------------------+--------------+\n",
      "only showing top 20 rows\n",
      "\n"
     ]
    }
   ],
   "source": [
    "b=spark.sql('''select tweet_created_at,\n",
    "                        CAST ( \n",
    "                            round(NVL((polarity * favorite_count)/NVL(retweet_count,1),0),2) \n",
    "                            as float)\n",
    "                            polarity_score\n",
    "                         from spark_tbl1\n",
    "                          ''')\n",
    "\n",
    "b.show()"
   ]
  },
  {
   "cell_type": "markdown",
   "metadata": {},
   "source": [
    "<b> <font size=\"3\">Load stock's financial data or use the one loaded in STEP 1\n"
   ]
  },
  {
   "cell_type": "code",
   "execution_count": 50,
   "metadata": {},
   "outputs": [],
   "source": [
    "df_spark_f= spark.read.format(\"csv\") \\\n",
    "                     .option(\"header\", \"true\") \\\n",
    "                     .option(\"delimiter\", \",\") \\\n",
    "                     .load(\"financial_data.csv\") "
   ]
  },
  {
   "cell_type": "code",
   "execution_count": 51,
   "metadata": {},
   "outputs": [],
   "source": [
    "df_spark_f.registerTempTable(\"df_spark_f_tbl\")"
   ]
  },
  {
   "cell_type": "code",
   "execution_count": 52,
   "metadata": {},
   "outputs": [],
   "source": [
    "a=spark.sql(\"select openBAC,openMA, cast(timestamp as timestamp) from df_spark_f_tbl\")"
   ]
  },
  {
   "cell_type": "code",
   "execution_count": 53,
   "metadata": {},
   "outputs": [],
   "source": [
    "a.registerTempTable(\"a_tbl\")"
   ]
  },
  {
   "cell_type": "markdown",
   "metadata": {},
   "source": [
    "<b> <font size=\"4\"> Convert this problem to a Supervised Learning\n"
   ]
  },
  {
   "cell_type": "markdown",
   "metadata": {},
   "source": [
    "<b> <font size=\"3\"> Create a 5 minutes Time Interval so that the news released within 5 mins interval can be captured to see the impact of stock price"
   ]
  },
  {
   "cell_type": "code",
   "execution_count": 54,
   "metadata": {},
   "outputs": [
    {
     "name": "stdout",
     "output_type": "stream",
     "text": [
      "+-------+--------+-------------------+-------------------+\n",
      "|openBAC|  openMA|              start|                end|\n",
      "+-------+--------+-------------------+-------------------+\n",
      "|  29.35|  269.53|2019-08-02 15:55:00|2019-08-02 16:00:00|\n",
      "| 29.375|  269.64|2019-08-02 15:54:00|2019-08-02 15:59:00|\n",
      "|  29.39|  269.88|2019-08-02 15:53:00|2019-08-02 15:58:00|\n",
      "|  29.35|   269.8|2019-08-02 15:52:00|2019-08-02 15:57:00|\n",
      "| 29.285|  269.33|2019-08-02 15:51:00|2019-08-02 15:56:00|\n",
      "|  29.32|  269.25|2019-08-02 15:50:00|2019-08-02 15:55:00|\n",
      "| 29.355|269.4914|2019-08-02 15:49:00|2019-08-02 15:54:00|\n",
      "| 29.365|  269.53|2019-08-02 15:48:00|2019-08-02 15:53:00|\n",
      "|  29.38|  269.54|2019-08-02 15:47:00|2019-08-02 15:52:00|\n",
      "|  29.41|  269.68|2019-08-02 15:46:00|2019-08-02 15:51:00|\n",
      "|  29.41|  269.75|2019-08-02 15:45:00|2019-08-02 15:50:00|\n",
      "| 29.436|  269.79|2019-08-02 15:44:00|2019-08-02 15:49:00|\n",
      "| 29.425|  269.97|2019-08-02 15:43:00|2019-08-02 15:48:00|\n",
      "| 29.415|  269.84|2019-08-02 15:42:00|2019-08-02 15:47:00|\n",
      "|  29.42|  270.13|2019-08-02 15:41:00|2019-08-02 15:46:00|\n",
      "|  29.43|  270.34|2019-08-02 15:40:00|2019-08-02 15:45:00|\n",
      "| 29.405|  270.34|2019-08-02 15:39:00|2019-08-02 15:44:00|\n",
      "|   29.4|  270.57|2019-08-02 15:38:00|2019-08-02 15:43:00|\n",
      "| 29.425|   270.6|2019-08-02 15:37:00|2019-08-02 15:42:00|\n",
      "|  29.41|  270.64|2019-08-02 15:36:00|2019-08-02 15:41:00|\n",
      "+-------+--------+-------------------+-------------------+\n",
      "only showing top 20 rows\n",
      "\n"
     ]
    }
   ],
   "source": [
    "c=spark.sql('''select a.openBAC,a.openMA, \n",
    "                a.timestamp - INTERVAL 5 MINUTES as start,\n",
    "                a.timestamp end\n",
    "                from a_tbl a \n",
    "                ''')\n",
    "c.show()"
   ]
  },
  {
   "cell_type": "code",
   "execution_count": 55,
   "metadata": {},
   "outputs": [],
   "source": [
    "c.registerTempTable('c_tbl')"
   ]
  },
  {
   "cell_type": "code",
   "execution_count": null,
   "metadata": {},
   "outputs": [],
   "source": []
  },
  {
   "cell_type": "code",
   "execution_count": 56,
   "metadata": {},
   "outputs": [],
   "source": [
    "df_c=c.toPandas()\n",
    "df_b=b.toPandas()"
   ]
  },
  {
   "cell_type": "markdown",
   "metadata": {},
   "source": [
    "<b> <font size=\"3\"> Logic to capture tweets of interest count and polarity of each tweet released in 5 mins interval"
   ]
  },
  {
   "cell_type": "code",
   "execution_count": 57,
   "metadata": {},
   "outputs": [],
   "source": [
    "tweet_count=[]\n",
    "polarity_score=[]\n",
    "\n",
    "for index, row in df_c.iterrows():\n",
    "    cnt=0\n",
    "    pol=0\n",
    "    s=row['start']\n",
    "    e=row['end']\n",
    "    for index, row in df_b.iterrows():\n",
    "        \n",
    "        t=row['tweet_created_at']\n",
    "        \n",
    "        mask = (t >= s) & (t < e)\n",
    "        if mask:\n",
    "            cnt=cnt+1\n",
    "            pol= row['polarity_score'] + pol\n",
    "    tweet_count.append(cnt)\n",
    "    polarity_score.append(pol)\n"
   ]
  },
  {
   "cell_type": "code",
   "execution_count": 58,
   "metadata": {},
   "outputs": [
    {
     "data": {
      "text/plain": [
       "1910"
      ]
     },
     "execution_count": 58,
     "metadata": {},
     "output_type": "execute_result"
    }
   ],
   "source": [
    "len(polarity_score)"
   ]
  },
  {
   "cell_type": "code",
   "execution_count": 59,
   "metadata": {},
   "outputs": [
    {
     "data": {
      "text/plain": [
       "1910"
      ]
     },
     "execution_count": 59,
     "metadata": {},
     "output_type": "execute_result"
    }
   ],
   "source": [
    "len(tweet_count)"
   ]
  },
  {
   "cell_type": "markdown",
   "metadata": {},
   "source": [
    "<b> <font size=\"3\"> Create Two new columns basis Twitter data.\n",
    "It is assumed that all news impact the stock price for the scope of this test.\n",
    "\n",
    "\n",
    "    In real project implementation- Following can be the logic to classify if tweet is of interest to a stock or not.\n",
    "    1) If news mentions stock name\n",
    "    2) if news mention industry to which stock belongs\n",
    "    3) If news relates to economic situation\n",
    "    4) and so on..... there can be lot of business rules that govern if news is of interest or not\n",
    "    \n",
    "    "
   ]
  },
  {
   "cell_type": "code",
   "execution_count": 60,
   "metadata": {},
   "outputs": [],
   "source": [
    "df_c['polarity']=polarity_score\n",
    "df_c['tweet_count']=tweet_count\n",
    "\n"
   ]
  },
  {
   "cell_type": "code",
   "execution_count": 61,
   "metadata": {},
   "outputs": [
    {
     "data": {
      "text/plain": [
       "(1910, 6)"
      ]
     },
     "execution_count": 61,
     "metadata": {},
     "output_type": "execute_result"
    }
   ],
   "source": [
    "df_c.shape"
   ]
  },
  {
   "cell_type": "code",
   "execution_count": 62,
   "metadata": {},
   "outputs": [
    {
     "data": {
      "text/html": [
       "<div>\n",
       "<style scoped>\n",
       "    .dataframe tbody tr th:only-of-type {\n",
       "        vertical-align: middle;\n",
       "    }\n",
       "\n",
       "    .dataframe tbody tr th {\n",
       "        vertical-align: top;\n",
       "    }\n",
       "\n",
       "    .dataframe thead th {\n",
       "        text-align: right;\n",
       "    }\n",
       "</style>\n",
       "<table border=\"1\" class=\"dataframe\">\n",
       "  <thead>\n",
       "    <tr style=\"text-align: right;\">\n",
       "      <th></th>\n",
       "      <th>polarity</th>\n",
       "      <th>tweet_count</th>\n",
       "    </tr>\n",
       "  </thead>\n",
       "  <tbody>\n",
       "    <tr>\n",
       "      <th>count</th>\n",
       "      <td>1910.000000</td>\n",
       "      <td>1910.000000</td>\n",
       "    </tr>\n",
       "    <tr>\n",
       "      <th>mean</th>\n",
       "      <td>0.135000</td>\n",
       "      <td>1.551309</td>\n",
       "    </tr>\n",
       "    <tr>\n",
       "      <th>std</th>\n",
       "      <td>0.797243</td>\n",
       "      <td>1.463091</td>\n",
       "    </tr>\n",
       "    <tr>\n",
       "      <th>min</th>\n",
       "      <td>-3.040000</td>\n",
       "      <td>0.000000</td>\n",
       "    </tr>\n",
       "    <tr>\n",
       "      <th>25%</th>\n",
       "      <td>-0.047500</td>\n",
       "      <td>0.000000</td>\n",
       "    </tr>\n",
       "    <tr>\n",
       "      <th>50%</th>\n",
       "      <td>0.000000</td>\n",
       "      <td>1.000000</td>\n",
       "    </tr>\n",
       "    <tr>\n",
       "      <th>75%</th>\n",
       "      <td>0.320000</td>\n",
       "      <td>2.000000</td>\n",
       "    </tr>\n",
       "    <tr>\n",
       "      <th>max</th>\n",
       "      <td>10.309999</td>\n",
       "      <td>10.000000</td>\n",
       "    </tr>\n",
       "  </tbody>\n",
       "</table>\n",
       "</div>"
      ],
      "text/plain": [
       "          polarity  tweet_count\n",
       "count  1910.000000  1910.000000\n",
       "mean      0.135000     1.551309\n",
       "std       0.797243     1.463091\n",
       "min      -3.040000     0.000000\n",
       "25%      -0.047500     0.000000\n",
       "50%       0.000000     1.000000\n",
       "75%       0.320000     2.000000\n",
       "max      10.309999    10.000000"
      ]
     },
     "execution_count": 62,
     "metadata": {},
     "output_type": "execute_result"
    }
   ],
   "source": [
    "df_c.describe()"
   ]
  },
  {
   "cell_type": "code",
   "execution_count": 63,
   "metadata": {},
   "outputs": [
    {
     "data": {
      "text/html": [
       "<div>\n",
       "<style scoped>\n",
       "    .dataframe tbody tr th:only-of-type {\n",
       "        vertical-align: middle;\n",
       "    }\n",
       "\n",
       "    .dataframe tbody tr th {\n",
       "        vertical-align: top;\n",
       "    }\n",
       "\n",
       "    .dataframe thead th {\n",
       "        text-align: right;\n",
       "    }\n",
       "</style>\n",
       "<table border=\"1\" class=\"dataframe\">\n",
       "  <thead>\n",
       "    <tr style=\"text-align: right;\">\n",
       "      <th></th>\n",
       "      <th>openBAC</th>\n",
       "      <th>openMA</th>\n",
       "      <th>start</th>\n",
       "      <th>end</th>\n",
       "      <th>polarity</th>\n",
       "      <th>tweet_count</th>\n",
       "    </tr>\n",
       "  </thead>\n",
       "  <tbody>\n",
       "    <tr>\n",
       "      <th>1890</th>\n",
       "      <td>30.82</td>\n",
       "      <td>282.46</td>\n",
       "      <td>2019-07-29 10:25:00</td>\n",
       "      <td>2019-07-29 10:30:00</td>\n",
       "      <td>0.00</td>\n",
       "      <td>0</td>\n",
       "    </tr>\n",
       "    <tr>\n",
       "      <th>1891</th>\n",
       "      <td>30.7975</td>\n",
       "      <td>282.46</td>\n",
       "      <td>2019-07-29 10:24:00</td>\n",
       "      <td>2019-07-29 10:29:00</td>\n",
       "      <td>0.00</td>\n",
       "      <td>0</td>\n",
       "    </tr>\n",
       "    <tr>\n",
       "      <th>1892</th>\n",
       "      <td>30.81</td>\n",
       "      <td>282.35</td>\n",
       "      <td>2019-07-29 10:23:00</td>\n",
       "      <td>2019-07-29 10:28:00</td>\n",
       "      <td>0.59</td>\n",
       "      <td>1</td>\n",
       "    </tr>\n",
       "    <tr>\n",
       "      <th>1893</th>\n",
       "      <td>30.8</td>\n",
       "      <td>282.655</td>\n",
       "      <td>2019-07-29 10:22:00</td>\n",
       "      <td>2019-07-29 10:27:00</td>\n",
       "      <td>0.59</td>\n",
       "      <td>1</td>\n",
       "    </tr>\n",
       "    <tr>\n",
       "      <th>1894</th>\n",
       "      <td>30.78</td>\n",
       "      <td>282.84</td>\n",
       "      <td>2019-07-29 10:21:00</td>\n",
       "      <td>2019-07-29 10:26:00</td>\n",
       "      <td>0.59</td>\n",
       "      <td>1</td>\n",
       "    </tr>\n",
       "    <tr>\n",
       "      <th>1895</th>\n",
       "      <td>30.79</td>\n",
       "      <td>282.64</td>\n",
       "      <td>2019-07-29 10:20:00</td>\n",
       "      <td>2019-07-29 10:25:00</td>\n",
       "      <td>0.59</td>\n",
       "      <td>1</td>\n",
       "    </tr>\n",
       "    <tr>\n",
       "      <th>1896</th>\n",
       "      <td>30.81</td>\n",
       "      <td>282.63</td>\n",
       "      <td>2019-07-29 10:19:00</td>\n",
       "      <td>2019-07-29 10:24:00</td>\n",
       "      <td>0.59</td>\n",
       "      <td>1</td>\n",
       "    </tr>\n",
       "    <tr>\n",
       "      <th>1897</th>\n",
       "      <td>30.825</td>\n",
       "      <td>282.69</td>\n",
       "      <td>2019-07-29 10:18:00</td>\n",
       "      <td>2019-07-29 10:23:00</td>\n",
       "      <td>0.43</td>\n",
       "      <td>1</td>\n",
       "    </tr>\n",
       "    <tr>\n",
       "      <th>1898</th>\n",
       "      <td>30.7932</td>\n",
       "      <td>282.8</td>\n",
       "      <td>2019-07-29 10:17:00</td>\n",
       "      <td>2019-07-29 10:22:00</td>\n",
       "      <td>0.43</td>\n",
       "      <td>1</td>\n",
       "    </tr>\n",
       "    <tr>\n",
       "      <th>1899</th>\n",
       "      <td>30.8</td>\n",
       "      <td>282.91</td>\n",
       "      <td>2019-07-29 10:16:00</td>\n",
       "      <td>2019-07-29 10:21:00</td>\n",
       "      <td>0.43</td>\n",
       "      <td>1</td>\n",
       "    </tr>\n",
       "    <tr>\n",
       "      <th>1900</th>\n",
       "      <td>30.79</td>\n",
       "      <td>282.84</td>\n",
       "      <td>2019-07-29 10:15:00</td>\n",
       "      <td>2019-07-29 10:20:00</td>\n",
       "      <td>0.43</td>\n",
       "      <td>1</td>\n",
       "    </tr>\n",
       "    <tr>\n",
       "      <th>1901</th>\n",
       "      <td>30.8</td>\n",
       "      <td>282.74</td>\n",
       "      <td>2019-07-29 10:14:00</td>\n",
       "      <td>2019-07-29 10:19:00</td>\n",
       "      <td>0.43</td>\n",
       "      <td>1</td>\n",
       "    </tr>\n",
       "    <tr>\n",
       "      <th>1902</th>\n",
       "      <td>30.79</td>\n",
       "      <td>282.665</td>\n",
       "      <td>2019-07-29 10:13:00</td>\n",
       "      <td>2019-07-29 10:18:00</td>\n",
       "      <td>0.00</td>\n",
       "      <td>0</td>\n",
       "    </tr>\n",
       "    <tr>\n",
       "      <th>1903</th>\n",
       "      <td>30.8</td>\n",
       "      <td>283.094</td>\n",
       "      <td>2019-07-29 10:12:00</td>\n",
       "      <td>2019-07-29 10:17:00</td>\n",
       "      <td>-0.41</td>\n",
       "      <td>1</td>\n",
       "    </tr>\n",
       "    <tr>\n",
       "      <th>1904</th>\n",
       "      <td>30.785</td>\n",
       "      <td>282.95</td>\n",
       "      <td>2019-07-29 10:11:00</td>\n",
       "      <td>2019-07-29 10:16:00</td>\n",
       "      <td>-0.41</td>\n",
       "      <td>1</td>\n",
       "    </tr>\n",
       "    <tr>\n",
       "      <th>1905</th>\n",
       "      <td>30.7001</td>\n",
       "      <td>282.705</td>\n",
       "      <td>2019-07-29 10:10:00</td>\n",
       "      <td>2019-07-29 10:15:00</td>\n",
       "      <td>-0.41</td>\n",
       "      <td>1</td>\n",
       "    </tr>\n",
       "    <tr>\n",
       "      <th>1906</th>\n",
       "      <td>30.6841</td>\n",
       "      <td>283.04</td>\n",
       "      <td>2019-07-29 10:09:00</td>\n",
       "      <td>2019-07-29 10:14:00</td>\n",
       "      <td>-0.41</td>\n",
       "      <td>1</td>\n",
       "    </tr>\n",
       "    <tr>\n",
       "      <th>1907</th>\n",
       "      <td>30.68</td>\n",
       "      <td>282.98</td>\n",
       "      <td>2019-07-29 10:08:00</td>\n",
       "      <td>2019-07-29 10:13:00</td>\n",
       "      <td>-0.41</td>\n",
       "      <td>1</td>\n",
       "    </tr>\n",
       "    <tr>\n",
       "      <th>1908</th>\n",
       "      <td>30.615</td>\n",
       "      <td>282.595</td>\n",
       "      <td>2019-07-29 10:07:00</td>\n",
       "      <td>2019-07-29 10:12:00</td>\n",
       "      <td>0.00</td>\n",
       "      <td>0</td>\n",
       "    </tr>\n",
       "    <tr>\n",
       "      <th>1909</th>\n",
       "      <td>30.72</td>\n",
       "      <td>283.12</td>\n",
       "      <td>2019-07-29 10:06:00</td>\n",
       "      <td>2019-07-29 10:11:00</td>\n",
       "      <td>0.00</td>\n",
       "      <td>0</td>\n",
       "    </tr>\n",
       "  </tbody>\n",
       "</table>\n",
       "</div>"
      ],
      "text/plain": [
       "      openBAC   openMA               start                 end  polarity  \\\n",
       "1890    30.82   282.46 2019-07-29 10:25:00 2019-07-29 10:30:00      0.00   \n",
       "1891  30.7975   282.46 2019-07-29 10:24:00 2019-07-29 10:29:00      0.00   \n",
       "1892    30.81   282.35 2019-07-29 10:23:00 2019-07-29 10:28:00      0.59   \n",
       "1893     30.8  282.655 2019-07-29 10:22:00 2019-07-29 10:27:00      0.59   \n",
       "1894    30.78   282.84 2019-07-29 10:21:00 2019-07-29 10:26:00      0.59   \n",
       "1895    30.79   282.64 2019-07-29 10:20:00 2019-07-29 10:25:00      0.59   \n",
       "1896    30.81   282.63 2019-07-29 10:19:00 2019-07-29 10:24:00      0.59   \n",
       "1897   30.825   282.69 2019-07-29 10:18:00 2019-07-29 10:23:00      0.43   \n",
       "1898  30.7932    282.8 2019-07-29 10:17:00 2019-07-29 10:22:00      0.43   \n",
       "1899     30.8   282.91 2019-07-29 10:16:00 2019-07-29 10:21:00      0.43   \n",
       "1900    30.79   282.84 2019-07-29 10:15:00 2019-07-29 10:20:00      0.43   \n",
       "1901     30.8   282.74 2019-07-29 10:14:00 2019-07-29 10:19:00      0.43   \n",
       "1902    30.79  282.665 2019-07-29 10:13:00 2019-07-29 10:18:00      0.00   \n",
       "1903     30.8  283.094 2019-07-29 10:12:00 2019-07-29 10:17:00     -0.41   \n",
       "1904   30.785   282.95 2019-07-29 10:11:00 2019-07-29 10:16:00     -0.41   \n",
       "1905  30.7001  282.705 2019-07-29 10:10:00 2019-07-29 10:15:00     -0.41   \n",
       "1906  30.6841   283.04 2019-07-29 10:09:00 2019-07-29 10:14:00     -0.41   \n",
       "1907    30.68   282.98 2019-07-29 10:08:00 2019-07-29 10:13:00     -0.41   \n",
       "1908   30.615  282.595 2019-07-29 10:07:00 2019-07-29 10:12:00      0.00   \n",
       "1909    30.72   283.12 2019-07-29 10:06:00 2019-07-29 10:11:00      0.00   \n",
       "\n",
       "      tweet_count  \n",
       "1890            0  \n",
       "1891            0  \n",
       "1892            1  \n",
       "1893            1  \n",
       "1894            1  \n",
       "1895            1  \n",
       "1896            1  \n",
       "1897            1  \n",
       "1898            1  \n",
       "1899            1  \n",
       "1900            1  \n",
       "1901            1  \n",
       "1902            0  \n",
       "1903            1  \n",
       "1904            1  \n",
       "1905            1  \n",
       "1906            1  \n",
       "1907            1  \n",
       "1908            0  \n",
       "1909            0  "
      ]
     },
     "execution_count": 63,
     "metadata": {},
     "output_type": "execute_result"
    }
   ],
   "source": [
    "df_c.tail(20)"
   ]
  },
  {
   "cell_type": "markdown",
   "metadata": {},
   "source": [
    "<b> <font size=\"3\"> There is more than one stock price which needs to be predicted basis twitter data.\n",
    "So this problem can be classified as Multi-Label Regression problem.\n",
    "    \n",
    "For the score of this test - Lets convert this problem to single label regression problem by taking one stock price."
   ]
  },
  {
   "cell_type": "code",
   "execution_count": 64,
   "metadata": {},
   "outputs": [],
   "source": [
    "df_c1= df_c[{'openBAC','polarity','tweet_count'}]\n",
    "\n"
   ]
  },
  {
   "cell_type": "markdown",
   "metadata": {},
   "source": [
    "<b> <font size=\"3\"> Type Cast the features "
   ]
  },
  {
   "cell_type": "code",
   "execution_count": 65,
   "metadata": {},
   "outputs": [
    {
     "name": "stderr",
     "output_type": "stream",
     "text": [
      "/Users/jatinmalhotra/anaconda3/lib/python3.7/site-packages/ipykernel_launcher.py:1: SettingWithCopyWarning: \n",
      "A value is trying to be set on a copy of a slice from a DataFrame.\n",
      "Try using .loc[row_indexer,col_indexer] = value instead\n",
      "\n",
      "See the caveats in the documentation: http://pandas.pydata.org/pandas-docs/stable/indexing.html#indexing-view-versus-copy\n",
      "  \"\"\"Entry point for launching an IPython kernel.\n",
      "/Users/jatinmalhotra/anaconda3/lib/python3.7/site-packages/ipykernel_launcher.py:2: SettingWithCopyWarning: \n",
      "A value is trying to be set on a copy of a slice from a DataFrame.\n",
      "Try using .loc[row_indexer,col_indexer] = value instead\n",
      "\n",
      "See the caveats in the documentation: http://pandas.pydata.org/pandas-docs/stable/indexing.html#indexing-view-versus-copy\n",
      "  \n",
      "/Users/jatinmalhotra/anaconda3/lib/python3.7/site-packages/ipykernel_launcher.py:3: SettingWithCopyWarning: \n",
      "A value is trying to be set on a copy of a slice from a DataFrame.\n",
      "Try using .loc[row_indexer,col_indexer] = value instead\n",
      "\n",
      "See the caveats in the documentation: http://pandas.pydata.org/pandas-docs/stable/indexing.html#indexing-view-versus-copy\n",
      "  This is separate from the ipykernel package so we can avoid doing imports until\n"
     ]
    }
   ],
   "source": [
    "df_c1['openBAC']= df_c1[{'openBAC'}].astype(float)\n",
    "df_c1['polarity']= df_c1[{'polarity'}].astype(float)\n",
    "df_c1['tweet_count']= df_c1[{'tweet_count'}].astype(int)\n",
    "\n"
   ]
  },
  {
   "cell_type": "markdown",
   "metadata": {},
   "source": [
    "<b> <font size=\"3\"> Verify the cast"
   ]
  },
  {
   "cell_type": "code",
   "execution_count": 66,
   "metadata": {},
   "outputs": [
    {
     "data": {
      "text/plain": [
       "polarity       float64\n",
       "openBAC        float64\n",
       "tweet_count      int64\n",
       "dtype: object"
      ]
     },
     "execution_count": 66,
     "metadata": {},
     "output_type": "execute_result"
    }
   ],
   "source": [
    "df_c1.dtypes"
   ]
  },
  {
   "cell_type": "markdown",
   "metadata": {},
   "source": [
    "<b> <font size=\"3\"> Divide the dataset into Input features (independent variables) and output feature (dependent variable) "
   ]
  },
  {
   "cell_type": "code",
   "execution_count": 67,
   "metadata": {},
   "outputs": [],
   "source": [
    "x=df_c1[{'polarity','tweet_count'}]\n",
    "y=df_c1['openBAC']\n"
   ]
  },
  {
   "cell_type": "code",
   "execution_count": 68,
   "metadata": {},
   "outputs": [],
   "source": [
    "import numpy as np\n",
    "#x= np.asarray(x).reshape(-1, 1)\n",
    "x= np.asarray(x)\n",
    "y= np.asarray(y).reshape(-1, 1)\n"
   ]
  },
  {
   "cell_type": "code",
   "execution_count": 69,
   "metadata": {},
   "outputs": [
    {
     "data": {
      "text/plain": [
       "(1910, 1910)"
      ]
     },
     "execution_count": 69,
     "metadata": {},
     "output_type": "execute_result"
    }
   ],
   "source": [
    "len(x), len(y)"
   ]
  },
  {
   "cell_type": "markdown",
   "metadata": {},
   "source": [
    "<b> <font size=\"3\"> Train/Test Split"
   ]
  },
  {
   "cell_type": "code",
   "execution_count": 70,
   "metadata": {},
   "outputs": [],
   "source": [
    "from sklearn.model_selection import train_test_split\n",
    "x_train, x_test, y_train, y_test = train_test_split(x, y, test_size=0.20, random_state=42)\n"
   ]
  },
  {
   "cell_type": "code",
   "execution_count": 71,
   "metadata": {},
   "outputs": [
    {
     "data": {
      "text/plain": [
       "((1528, 2), (382, 2))"
      ]
     },
     "execution_count": 71,
     "metadata": {},
     "output_type": "execute_result"
    }
   ],
   "source": [
    "x_train.shape,x_test.shape"
   ]
  },
  {
   "cell_type": "code",
   "execution_count": 72,
   "metadata": {},
   "outputs": [
    {
     "data": {
      "text/plain": [
       "((1528, 1), (382, 1))"
      ]
     },
     "execution_count": 72,
     "metadata": {},
     "output_type": "execute_result"
    }
   ],
   "source": [
    "y_train.shape,y_test.shape"
   ]
  },
  {
   "cell_type": "markdown",
   "metadata": {},
   "source": [
    "<b> <font size=\"3\"> Algorithm - Random Forest Regressor (Supervised Problem)"
   ]
  },
  {
   "cell_type": "code",
   "execution_count": 73,
   "metadata": {},
   "outputs": [
    {
     "name": "stderr",
     "output_type": "stream",
     "text": [
      "/Users/jatinmalhotra/anaconda3/lib/python3.7/site-packages/ipykernel_launcher.py:6: DataConversionWarning: A column-vector y was passed when a 1d array was expected. Please change the shape of y to (n_samples,), for example using ravel().\n",
      "  \n"
     ]
    },
    {
     "data": {
      "text/plain": [
       "RandomForestRegressor(bootstrap=True, criterion='mse', max_depth=2,\n",
       "                      max_features='auto', max_leaf_nodes=None,\n",
       "                      min_impurity_decrease=0.0, min_impurity_split=None,\n",
       "                      min_samples_leaf=1, min_samples_split=2,\n",
       "                      min_weight_fraction_leaf=0.0, n_estimators=100,\n",
       "                      n_jobs=None, oob_score=False, random_state=0, verbose=0,\n",
       "                      warm_start=False)"
      ]
     },
     "execution_count": 73,
     "metadata": {},
     "output_type": "execute_result"
    }
   ],
   "source": [
    "from sklearn.ensemble import RandomForestRegressor\n",
    "from sklearn.datasets import make_regression\n",
    "\n",
    "regr = RandomForestRegressor(max_depth=2, random_state=0,\n",
    "                              n_estimators=100)\n",
    "regr.fit(x_train,y_train)\n"
   ]
  },
  {
   "cell_type": "markdown",
   "metadata": {},
   "source": [
    "<b> <font size=\"3\"> Test the model predictions"
   ]
  },
  {
   "cell_type": "code",
   "execution_count": 74,
   "metadata": {},
   "outputs": [],
   "source": [
    "y_test_predictions=regr.predict(x_test)"
   ]
  },
  {
   "cell_type": "markdown",
   "metadata": {},
   "source": [
    "<b> <font size=\"3\">Performance metrics"
   ]
  },
  {
   "cell_type": "code",
   "execution_count": 75,
   "metadata": {},
   "outputs": [],
   "source": [
    "errors = abs(y_test_predictions - y_test)"
   ]
  },
  {
   "cell_type": "markdown",
   "metadata": {},
   "source": [
    "<b> <font size=\"3\">Average Absolute Error"
   ]
  },
  {
   "cell_type": "code",
   "execution_count": 76,
   "metadata": {},
   "outputs": [
    {
     "name": "stdout",
     "output_type": "stream",
     "text": [
      "Average absolute error: 0.56 degrees.\n"
     ]
    }
   ],
   "source": [
    "print('Average absolute error:', round(np.mean(errors), 2), 'degrees.')"
   ]
  },
  {
   "cell_type": "markdown",
   "metadata": {},
   "source": [
    "<b> <font size=\"3\">Mean Absolute Percentage Error (MAPE)"
   ]
  },
  {
   "cell_type": "code",
   "execution_count": 77,
   "metadata": {},
   "outputs": [],
   "source": [
    "mape = 100 * (errors / y_test)"
   ]
  },
  {
   "cell_type": "markdown",
   "metadata": {},
   "source": [
    "<b> <font size=\"4\">Model Accuracy"
   ]
  },
  {
   "cell_type": "code",
   "execution_count": 78,
   "metadata": {},
   "outputs": [
    {
     "name": "stdout",
     "output_type": "stream",
     "text": [
      "Accuracy: 98.13 %.\n"
     ]
    }
   ],
   "source": [
    "acc = 100 - np.mean(mape)\n",
    "print('Accuracy:', round(acc, 2), '%.')"
   ]
  },
  {
   "cell_type": "markdown",
   "metadata": {},
   "source": [
    "<b> <font size=\"5\"> STEP 2 END"
   ]
  },
  {
   "cell_type": "code",
   "execution_count": null,
   "metadata": {},
   "outputs": [],
   "source": []
  },
  {
   "cell_type": "markdown",
   "metadata": {},
   "source": [
    "<b> <font size=\"5\"> STEP 3 BEGINS"
   ]
  },
  {
   "cell_type": "markdown",
   "metadata": {},
   "source": [
    "<b> <font size=\"4\"> PREDICT Bank Of America Price based on STEP 1 and STEP 2\n",
    "    \n",
    "    \n",
    "Lets Assume current stock price of a Bank of America is - 30.72\n",
    "or it can be taken directly from financial data as last record (as shown below)\n"
   ]
  },
  {
   "cell_type": "markdown",
   "metadata": {},
   "source": [
    "<b> <font size=\"4\"> STEP 1 Prediction of BAC for next 5 mins"
   ]
  },
  {
   "cell_type": "code",
   "execution_count": 79,
   "metadata": {},
   "outputs": [],
   "source": [
    "bac_current_price=df_pd[{'openBAC','openMA','openAAPL','openPFE','openBYND'}].tail(1)\n"
   ]
  },
  {
   "cell_type": "code",
   "execution_count": 80,
   "metadata": {},
   "outputs": [],
   "source": [
    "price=np.asarray(bac_current_price)"
   ]
  },
  {
   "cell_type": "code",
   "execution_count": 81,
   "metadata": {},
   "outputs": [
    {
     "data": {
      "text/plain": [
       "array([[ 30.72 ,  42.24 , 228.086, 283.12 , 208.48 ]])"
      ]
     },
     "execution_count": 81,
     "metadata": {},
     "output_type": "execute_result"
    }
   ],
   "source": [
    "price"
   ]
  },
  {
   "cell_type": "markdown",
   "metadata": {},
   "source": [
    "<b> <font size=\"4\"> Get Price based on Time-Series Evaluation (STEP 1 Model)"
   ]
  },
  {
   "cell_type": "code",
   "execution_count": 82,
   "metadata": {},
   "outputs": [],
   "source": [
    "step1_new_price = model.forecast(price, steps=5)"
   ]
  },
  {
   "cell_type": "markdown",
   "metadata": {},
   "source": [
    "<b> <font size=\"4\"> Bank Of American Price fo Next 5 Mins"
   ]
  },
  {
   "cell_type": "code",
   "execution_count": 83,
   "metadata": {},
   "outputs": [
    {
     "name": "stdout",
     "output_type": "stream",
     "text": [
      "Price at 1 minute: 31.63\n",
      "Price at 2 minute: 32.54\n",
      "Price at 3 minute: 33.45\n",
      "Price at 4 minute: 34.36\n",
      "Price at 5 minute: 35.26\n"
     ]
    }
   ],
   "source": [
    "#step1_price=[]\n",
    "for i in range(0,5):\n",
    "    #step1_price.append(step1_new_price[i][0])\n",
    "    print(\"Price at\", i+1, \"minute:\", round( (step1_new_price[i][0]),2))"
   ]
  },
  {
   "cell_type": "markdown",
   "metadata": {},
   "source": [
    "<b> <font size=\"4\"> STEP 2 Prediction of BAC for next 5 mins"
   ]
  },
  {
   "cell_type": "markdown",
   "metadata": {},
   "source": [
    "<b> <font size=\"4\">  Lets Assume there is one Twitter news released that is of interest to Bank of America with Polarity 1.1. "
   ]
  },
  {
   "cell_type": "code",
   "execution_count": 84,
   "metadata": {},
   "outputs": [],
   "source": [
    "new_tweet_of_interest=np.array([1.1, 2])"
   ]
  },
  {
   "cell_type": "code",
   "execution_count": 85,
   "metadata": {},
   "outputs": [],
   "source": [
    "z=new_tweet_of_interest.reshape(1, -1)"
   ]
  },
  {
   "cell_type": "code",
   "execution_count": 86,
   "metadata": {},
   "outputs": [
    {
     "name": "stdout",
     "output_type": "stream",
     "text": [
      "30.32\n"
     ]
    }
   ],
   "source": [
    "step2_new_price =regr.predict(z)\n",
    "step2_new_price=round(step2_new_price[0],2)\n",
    "print(step2_new_price)"
   ]
  },
  {
   "cell_type": "markdown",
   "metadata": {},
   "source": [
    "<b> <font size=\"4\">  FINAL PREDICTED SHARE PRICE OF \"Bank Of America\" FOR NEXT 5 MINS BASED ON STEP 1 and STEP 2"
   ]
  },
  {
   "cell_type": "markdown",
   "metadata": {},
   "source": [
    "<b> <font size=\"4\">  Weightage Average of Step 1 and Step 2\n"
   ]
  },
  {
   "cell_type": "code",
   "execution_count": 87,
   "metadata": {},
   "outputs": [
    {
     "name": "stdout",
     "output_type": "stream",
     "text": [
      "Bank Of America is Predicted to be priced at  30.98 in next 1 minute:\n",
      "Bank Of America is Predicted to be priced at  31.43 in next 2 minute:\n",
      "Bank Of America is Predicted to be priced at  31.89 in next 3 minute:\n",
      "Bank Of America is Predicted to be priced at  32.34 in next 4 minute:\n",
      "Bank Of America is Predicted to be priced at  32.79 in next 5 minute:\n"
     ]
    }
   ],
   "source": [
    "for i in range(0,5):\n",
    "    final= (step1_new_price[i][0] + step2_new_price)/2\n",
    "    print(\"Bank Of America is Predicted to be priced at \", round(final,2),\"in next\",i+1,\"minute:\")"
   ]
  },
  {
   "cell_type": "markdown",
   "metadata": {},
   "source": [
    "<b> <font size=\"4\"> Note - Similarly, all other stock prices can be predicted "
   ]
  },
  {
   "cell_type": "markdown",
   "metadata": {},
   "source": [
    "<b> <font size=\"4\">  *** END ***"
   ]
  }
 ],
 "metadata": {
  "kernelspec": {
   "display_name": "Python 3",
   "language": "python",
   "name": "python3"
  },
  "language_info": {
   "codemirror_mode": {
    "name": "ipython",
    "version": 3
   },
   "file_extension": ".py",
   "mimetype": "text/x-python",
   "name": "python",
   "nbconvert_exporter": "python",
   "pygments_lexer": "ipython3",
   "version": "3.7.3"
  }
 },
 "nbformat": 4,
 "nbformat_minor": 2
}
